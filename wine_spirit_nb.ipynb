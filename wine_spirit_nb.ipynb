{
 "metadata": {
  "language_info": {
   "codemirror_mode": {
    "name": "ipython",
    "version": 3
   },
   "file_extension": ".py",
   "mimetype": "text/x-python",
   "name": "python",
   "nbconvert_exporter": "python",
   "pygments_lexer": "ipython3",
   "version": "3.8.8"
  },
  "orig_nbformat": 4,
  "kernelspec": {
   "name": "python3",
   "display_name": "Python 3.8.8 64-bit ('base': conda)"
  },
  "interpreter": {
   "hash": "f80d8b31525b6ea3adcf22249f5b1a58cdfe6d9f8b553721dcb1dc5ebfc8b9f9"
  }
 },
 "nbformat": 4,
 "nbformat_minor": 2,
 "cells": [
  {
   "cell_type": "code",
   "execution_count": 130,
   "source": [
    "%load_ext autoreload\r\n",
    "%autoreload 2\r\n",
    "import pandas as pd\r\n",
    "import numpy as np\r\n",
    "from scipy import stats\r\n",
    "import seaborn as sns\r\n",
    "import matplotlib.pyplot as plt\r\n",
    "from sklearn.cluster import KMeans\r\n",
    "from sklearn.model_selection import train_test_split\r\n",
    "from scipy.stats import iqr\r\n"
   ],
   "outputs": [
    {
     "output_type": "stream",
     "name": "stdout",
     "text": [
      "The autoreload extension is already loaded. To reload it, use:\n",
      "  %reload_ext autoreload\n"
     ]
    }
   ],
   "metadata": {}
  },
  {
   "cell_type": "code",
   "execution_count": 131,
   "source": [
    "df_web = pd.read_excel(\"web.xlsx\")\r\n",
    "df_erp = pd.read_excel(\"erp.xlsx\")\r\n",
    "df_liaison = pd.read_excel(\"liaison.xlsx\")\r\n",
    "\r\n",
    "df_web_origin, df_erp_origin, df_liaison_origin = df_web, df_erp, df_liaison"
   ],
   "outputs": [
    {
     "output_type": "stream",
     "name": "stderr",
     "text": [
      "C:\\Users\\Utilisateur\\anaconda3\\lib\\site-packages\\openpyxl\\worksheet\\_reader.py:312: UserWarning: Unknown extension is not supported and will be removed\n",
      "  warn(msg)\n"
     ]
    }
   ],
   "metadata": {}
  },
  {
   "cell_type": "code",
   "execution_count": 132,
   "source": [
    "df_web.describe()"
   ],
   "outputs": [
    {
     "output_type": "execute_result",
     "data": {
      "text/plain": [
       "       virtual  downloadable  rating_count  average_rating  total_sales  \\\n",
       "count   1513.0        1513.0        1513.0          1430.0  1430.000000   \n",
       "mean       0.0           0.0           0.0             0.0     4.006993   \n",
       "std        0.0           0.0           0.0             0.0     8.510559   \n",
       "min        0.0           0.0           0.0             0.0     0.000000   \n",
       "25%        0.0           0.0           0.0             0.0     0.000000   \n",
       "50%        0.0           0.0           0.0             0.0     1.000000   \n",
       "75%        0.0           0.0           0.0             0.0     4.000000   \n",
       "max        0.0           0.0           0.0             0.0    96.000000   \n",
       "\n",
       "       tax_class  post_author  post_content  post_password  \\\n",
       "count        0.0  1430.000000           0.0            0.0   \n",
       "mean         NaN     1.998601           NaN            NaN   \n",
       "std          NaN     0.037385           NaN            NaN   \n",
       "min          NaN     1.000000           NaN            NaN   \n",
       "25%          NaN     2.000000           NaN            NaN   \n",
       "50%          NaN     2.000000           NaN            NaN   \n",
       "75%          NaN     2.000000           NaN            NaN   \n",
       "max          NaN     2.000000           NaN            NaN   \n",
       "\n",
       "       post_content_filtered  post_parent  menu_order  comment_count  \n",
       "count                    0.0       1430.0      1430.0         1430.0  \n",
       "mean                     NaN          0.0         0.0            0.0  \n",
       "std                      NaN          0.0         0.0            0.0  \n",
       "min                      NaN          0.0         0.0            0.0  \n",
       "25%                      NaN          0.0         0.0            0.0  \n",
       "50%                      NaN          0.0         0.0            0.0  \n",
       "75%                      NaN          0.0         0.0            0.0  \n",
       "max                      NaN          0.0         0.0            0.0  "
      ],
      "text/html": [
       "<div>\n",
       "<style scoped>\n",
       "    .dataframe tbody tr th:only-of-type {\n",
       "        vertical-align: middle;\n",
       "    }\n",
       "\n",
       "    .dataframe tbody tr th {\n",
       "        vertical-align: top;\n",
       "    }\n",
       "\n",
       "    .dataframe thead th {\n",
       "        text-align: right;\n",
       "    }\n",
       "</style>\n",
       "<table border=\"1\" class=\"dataframe\">\n",
       "  <thead>\n",
       "    <tr style=\"text-align: right;\">\n",
       "      <th></th>\n",
       "      <th>virtual</th>\n",
       "      <th>downloadable</th>\n",
       "      <th>rating_count</th>\n",
       "      <th>average_rating</th>\n",
       "      <th>total_sales</th>\n",
       "      <th>tax_class</th>\n",
       "      <th>post_author</th>\n",
       "      <th>post_content</th>\n",
       "      <th>post_password</th>\n",
       "      <th>post_content_filtered</th>\n",
       "      <th>post_parent</th>\n",
       "      <th>menu_order</th>\n",
       "      <th>comment_count</th>\n",
       "    </tr>\n",
       "  </thead>\n",
       "  <tbody>\n",
       "    <tr>\n",
       "      <th>count</th>\n",
       "      <td>1513.0</td>\n",
       "      <td>1513.0</td>\n",
       "      <td>1513.0</td>\n",
       "      <td>1430.0</td>\n",
       "      <td>1430.000000</td>\n",
       "      <td>0.0</td>\n",
       "      <td>1430.000000</td>\n",
       "      <td>0.0</td>\n",
       "      <td>0.0</td>\n",
       "      <td>0.0</td>\n",
       "      <td>1430.0</td>\n",
       "      <td>1430.0</td>\n",
       "      <td>1430.0</td>\n",
       "    </tr>\n",
       "    <tr>\n",
       "      <th>mean</th>\n",
       "      <td>0.0</td>\n",
       "      <td>0.0</td>\n",
       "      <td>0.0</td>\n",
       "      <td>0.0</td>\n",
       "      <td>4.006993</td>\n",
       "      <td>NaN</td>\n",
       "      <td>1.998601</td>\n",
       "      <td>NaN</td>\n",
       "      <td>NaN</td>\n",
       "      <td>NaN</td>\n",
       "      <td>0.0</td>\n",
       "      <td>0.0</td>\n",
       "      <td>0.0</td>\n",
       "    </tr>\n",
       "    <tr>\n",
       "      <th>std</th>\n",
       "      <td>0.0</td>\n",
       "      <td>0.0</td>\n",
       "      <td>0.0</td>\n",
       "      <td>0.0</td>\n",
       "      <td>8.510559</td>\n",
       "      <td>NaN</td>\n",
       "      <td>0.037385</td>\n",
       "      <td>NaN</td>\n",
       "      <td>NaN</td>\n",
       "      <td>NaN</td>\n",
       "      <td>0.0</td>\n",
       "      <td>0.0</td>\n",
       "      <td>0.0</td>\n",
       "    </tr>\n",
       "    <tr>\n",
       "      <th>min</th>\n",
       "      <td>0.0</td>\n",
       "      <td>0.0</td>\n",
       "      <td>0.0</td>\n",
       "      <td>0.0</td>\n",
       "      <td>0.000000</td>\n",
       "      <td>NaN</td>\n",
       "      <td>1.000000</td>\n",
       "      <td>NaN</td>\n",
       "      <td>NaN</td>\n",
       "      <td>NaN</td>\n",
       "      <td>0.0</td>\n",
       "      <td>0.0</td>\n",
       "      <td>0.0</td>\n",
       "    </tr>\n",
       "    <tr>\n",
       "      <th>25%</th>\n",
       "      <td>0.0</td>\n",
       "      <td>0.0</td>\n",
       "      <td>0.0</td>\n",
       "      <td>0.0</td>\n",
       "      <td>0.000000</td>\n",
       "      <td>NaN</td>\n",
       "      <td>2.000000</td>\n",
       "      <td>NaN</td>\n",
       "      <td>NaN</td>\n",
       "      <td>NaN</td>\n",
       "      <td>0.0</td>\n",
       "      <td>0.0</td>\n",
       "      <td>0.0</td>\n",
       "    </tr>\n",
       "    <tr>\n",
       "      <th>50%</th>\n",
       "      <td>0.0</td>\n",
       "      <td>0.0</td>\n",
       "      <td>0.0</td>\n",
       "      <td>0.0</td>\n",
       "      <td>1.000000</td>\n",
       "      <td>NaN</td>\n",
       "      <td>2.000000</td>\n",
       "      <td>NaN</td>\n",
       "      <td>NaN</td>\n",
       "      <td>NaN</td>\n",
       "      <td>0.0</td>\n",
       "      <td>0.0</td>\n",
       "      <td>0.0</td>\n",
       "    </tr>\n",
       "    <tr>\n",
       "      <th>75%</th>\n",
       "      <td>0.0</td>\n",
       "      <td>0.0</td>\n",
       "      <td>0.0</td>\n",
       "      <td>0.0</td>\n",
       "      <td>4.000000</td>\n",
       "      <td>NaN</td>\n",
       "      <td>2.000000</td>\n",
       "      <td>NaN</td>\n",
       "      <td>NaN</td>\n",
       "      <td>NaN</td>\n",
       "      <td>0.0</td>\n",
       "      <td>0.0</td>\n",
       "      <td>0.0</td>\n",
       "    </tr>\n",
       "    <tr>\n",
       "      <th>max</th>\n",
       "      <td>0.0</td>\n",
       "      <td>0.0</td>\n",
       "      <td>0.0</td>\n",
       "      <td>0.0</td>\n",
       "      <td>96.000000</td>\n",
       "      <td>NaN</td>\n",
       "      <td>2.000000</td>\n",
       "      <td>NaN</td>\n",
       "      <td>NaN</td>\n",
       "      <td>NaN</td>\n",
       "      <td>0.0</td>\n",
       "      <td>0.0</td>\n",
       "      <td>0.0</td>\n",
       "    </tr>\n",
       "  </tbody>\n",
       "</table>\n",
       "</div>"
      ]
     },
     "metadata": {},
     "execution_count": 132
    }
   ],
   "metadata": {}
  },
  {
   "cell_type": "code",
   "execution_count": 133,
   "source": [
    "df_drop_row = df_web.dropna(axis=0, how='all')\r\n",
    "df_drop_column = df_drop_row.dropna(axis=1, how = 'all')\r\n",
    "df_web_clean = df_drop_column.drop_duplicates(subset=['sku'])\r\n",
    "print(df_web_clean.info())\r\n"
   ],
   "outputs": [
    {
     "output_type": "stream",
     "name": "stdout",
     "text": [
      "<class 'pandas.core.frame.DataFrame'>\n",
      "Int64Index: 715 entries, 0 to 798\n",
      "Data columns (total 24 columns):\n",
      " #   Column             Non-Null Count  Dtype         \n",
      "---  ------             --------------  -----         \n",
      " 0   sku                714 non-null    object        \n",
      " 1   virtual            715 non-null    int64         \n",
      " 2   downloadable       715 non-null    int64         \n",
      " 3   rating_count       715 non-null    int64         \n",
      " 4   average_rating     714 non-null    float64       \n",
      " 5   total_sales        714 non-null    float64       \n",
      " 6   tax_status         714 non-null    object        \n",
      " 7   post_author        714 non-null    float64       \n",
      " 8   post_date          714 non-null    datetime64[ns]\n",
      " 9   post_date_gmt      714 non-null    datetime64[ns]\n",
      " 10  post_title         714 non-null    object        \n",
      " 11  post_excerpt       714 non-null    object        \n",
      " 12  post_status        714 non-null    object        \n",
      " 13  comment_status     714 non-null    object        \n",
      " 14  ping_status        714 non-null    object        \n",
      " 15  post_name          714 non-null    object        \n",
      " 16  post_modified      714 non-null    datetime64[ns]\n",
      " 17  post_modified_gmt  714 non-null    datetime64[ns]\n",
      " 18  post_parent        714 non-null    float64       \n",
      " 19  guid               714 non-null    object        \n",
      " 20  menu_order         714 non-null    float64       \n",
      " 21  post_type          714 non-null    object        \n",
      " 22  post_mime_type     0 non-null      object        \n",
      " 23  comment_count      714 non-null    float64       \n",
      "dtypes: datetime64[ns](4), float64(6), int64(3), object(11)\n",
      "memory usage: 139.6+ KB\n",
      "None\n"
     ]
    }
   ],
   "metadata": {}
  },
  {
   "cell_type": "code",
   "execution_count": 134,
   "source": [
    "df_liaison.info()"
   ],
   "outputs": [
    {
     "output_type": "stream",
     "name": "stdout",
     "text": [
      "<class 'pandas.core.frame.DataFrame'>\n",
      "RangeIndex: 825 entries, 0 to 824\n",
      "Data columns (total 2 columns):\n",
      " #   Column      Non-Null Count  Dtype \n",
      "---  ------      --------------  ----- \n",
      " 0   product_id  825 non-null    int64 \n",
      " 1   id_web      734 non-null    object\n",
      "dtypes: int64(1), object(1)\n",
      "memory usage: 13.0+ KB\n"
     ]
    }
   ],
   "metadata": {}
  },
  {
   "cell_type": "code",
   "execution_count": 135,
   "source": [
    "df_liaison_cleaned = df_liaison.dropna(axis=0, how='any') \r\n",
    "df_liaison_cleaned.info()"
   ],
   "outputs": [
    {
     "output_type": "stream",
     "name": "stdout",
     "text": [
      "<class 'pandas.core.frame.DataFrame'>\n",
      "Int64Index: 734 entries, 0 to 824\n",
      "Data columns (total 2 columns):\n",
      " #   Column      Non-Null Count  Dtype \n",
      "---  ------      --------------  ----- \n",
      " 0   product_id  734 non-null    int64 \n",
      " 1   id_web      734 non-null    object\n",
      "dtypes: int64(1), object(1)\n",
      "memory usage: 17.2+ KB\n"
     ]
    }
   ],
   "metadata": {}
  },
  {
   "cell_type": "code",
   "execution_count": 136,
   "source": [
    "df_first_merge = pd.merge(df_erp, df_liaison_cleaned, left_on='product_id', right_on='product_id', how=\"inner\")\r\n",
    "df_full = pd.merge(df_first_merge, df_web_clean, left_on='id_web', right_on='sku', how=\"inner\")"
   ],
   "outputs": [],
   "metadata": {}
  },
  {
   "cell_type": "code",
   "execution_count": 137,
   "source": [
    "df_full.info()\r\n",
    "df_full.head(10)"
   ],
   "outputs": [
    {
     "output_type": "stream",
     "name": "stdout",
     "text": [
      "<class 'pandas.core.frame.DataFrame'>\n",
      "Int64Index: 714 entries, 0 to 713\n",
      "Data columns (total 30 columns):\n",
      " #   Column             Non-Null Count  Dtype         \n",
      "---  ------             --------------  -----         \n",
      " 0   product_id         714 non-null    int64         \n",
      " 1   onsale_web         714 non-null    int64         \n",
      " 2   price              714 non-null    float64       \n",
      " 3   stock_quantity     714 non-null    int64         \n",
      " 4   stock_status       714 non-null    object        \n",
      " 5   id_web             714 non-null    object        \n",
      " 6   sku                714 non-null    object        \n",
      " 7   virtual            714 non-null    int64         \n",
      " 8   downloadable       714 non-null    int64         \n",
      " 9   rating_count       714 non-null    int64         \n",
      " 10  average_rating     714 non-null    float64       \n",
      " 11  total_sales        714 non-null    float64       \n",
      " 12  tax_status         714 non-null    object        \n",
      " 13  post_author        714 non-null    float64       \n",
      " 14  post_date          714 non-null    datetime64[ns]\n",
      " 15  post_date_gmt      714 non-null    datetime64[ns]\n",
      " 16  post_title         714 non-null    object        \n",
      " 17  post_excerpt       714 non-null    object        \n",
      " 18  post_status        714 non-null    object        \n",
      " 19  comment_status     714 non-null    object        \n",
      " 20  ping_status        714 non-null    object        \n",
      " 21  post_name          714 non-null    object        \n",
      " 22  post_modified      714 non-null    datetime64[ns]\n",
      " 23  post_modified_gmt  714 non-null    datetime64[ns]\n",
      " 24  post_parent        714 non-null    float64       \n",
      " 25  guid               714 non-null    object        \n",
      " 26  menu_order         714 non-null    float64       \n",
      " 27  post_type          714 non-null    object        \n",
      " 28  post_mime_type     0 non-null      object        \n",
      " 29  comment_count      714 non-null    float64       \n",
      "dtypes: datetime64[ns](4), float64(7), int64(6), object(13)\n",
      "memory usage: 172.9+ KB\n"
     ]
    },
    {
     "output_type": "execute_result",
     "data": {
      "text/plain": [
       "   product_id  onsale_web  price  stock_quantity stock_status id_web    sku  \\\n",
       "0        3847           1   24.2               0   outofstock  15298  15298   \n",
       "1        3849           1   34.3               0   outofstock  15296  15296   \n",
       "2        3850           1   20.8               0   outofstock  15300  15300   \n",
       "3        4032           1   14.1               0   outofstock  19814  19814   \n",
       "4        4039           1   46.0               0   outofstock  19815  19815   \n",
       "5        4040           1   34.3               0   outofstock  15303  15303   \n",
       "6        4041           1   32.7              15      instock  14975  14975   \n",
       "7        4042           1   31.2              34      instock  16042  16042   \n",
       "8        4043           1   60.0              12      instock  14980  14980   \n",
       "9        4045           1   42.6              66      instock  16041  16041   \n",
       "\n",
       "   virtual  downloadable  rating_count  ...  ping_status  \\\n",
       "0        0             0             0  ...       closed   \n",
       "1        0             0             0  ...       closed   \n",
       "2        0             0             0  ...       closed   \n",
       "3        0             0             0  ...       closed   \n",
       "4        0             0             0  ...       closed   \n",
       "5        0             0             0  ...       closed   \n",
       "6        0             0             0  ...       closed   \n",
       "7        0             0             0  ...       closed   \n",
       "8        0             0             0  ...       closed   \n",
       "9        0             0             0  ...       closed   \n",
       "\n",
       "                                           post_name       post_modified  \\\n",
       "0        pierre-jean-villa-saint-joseph-preface-2018 2019-12-30 09:30:29   \n",
       "1          pierre-jean-villa-saint-joseph-tilde-2017 2019-12-21 09:00:17   \n",
       "2  pierre-jean-villa-croze-hermitage-accroche-coe... 2020-06-26 18:15:03   \n",
       "3                  pierre-jean-villa-igp-gamine-2018 2020-01-04 16:36:01   \n",
       "4          pierre-jean-villa-cote-rotie-carmina-2017 2020-01-04 16:36:10   \n",
       "5      pierre-jean-villa-saint-joseph-saut-ange-2018 2019-11-02 13:25:07   \n",
       "6                      pierre-gaillard-condrieu-2018 2020-08-14 18:15:02   \n",
       "7                        pierre-gaillard-cornas-2017 2020-08-14 10:15:02   \n",
       "8       pierre-gaillard-cote-rotie-esprit-blond-2017 2020-08-24 14:00:03   \n",
       "9                    pierre-gaillard-cote-rotie-2018 2020-08-03 09:55:03   \n",
       "\n",
       "    post_modified_gmt post_parent  \\\n",
       "0 2019-12-30 08:30:29         0.0   \n",
       "1 2019-12-21 08:00:17         0.0   \n",
       "2 2020-06-26 16:15:03         0.0   \n",
       "3 2020-01-04 15:36:01         0.0   \n",
       "4 2020-01-04 15:36:10         0.0   \n",
       "5 2019-11-02 12:25:07         0.0   \n",
       "6 2020-08-14 16:15:02         0.0   \n",
       "7 2020-08-14 08:15:02         0.0   \n",
       "8 2020-08-24 12:00:03         0.0   \n",
       "9 2020-08-03 07:55:03         0.0   \n",
       "\n",
       "                                                guid menu_order post_type  \\\n",
       "0  https://www.wine-spirit.fr/?post_type=product&...        0.0   product   \n",
       "1  https://www.wine-spirit.fr/?post_type=product&...        0.0   product   \n",
       "2  https://www.wine-spirit.fr/?post_type=product&...        0.0   product   \n",
       "3  https://www.wine-spirit.fr/?post_type=product&...        0.0   product   \n",
       "4  https://www.wine-spirit.fr/?post_type=product&...        0.0   product   \n",
       "5  https://www.wine-spirit.fr/?post_type=product&...        0.0   product   \n",
       "6  https://www.wine-spirit.fr/?post_type=product&...        0.0   product   \n",
       "7  https://www.wine-spirit.fr/?post_type=product&...        0.0   product   \n",
       "8  https://www.wine-spirit.fr/?post_type=product&...        0.0   product   \n",
       "9  https://www.wine-spirit.fr/?post_type=product&...        0.0   product   \n",
       "\n",
       "  post_mime_type comment_count  \n",
       "0            NaN           0.0  \n",
       "1            NaN           0.0  \n",
       "2            NaN           0.0  \n",
       "3            NaN           0.0  \n",
       "4            NaN           0.0  \n",
       "5            NaN           0.0  \n",
       "6            NaN           0.0  \n",
       "7            NaN           0.0  \n",
       "8            NaN           0.0  \n",
       "9            NaN           0.0  \n",
       "\n",
       "[10 rows x 30 columns]"
      ],
      "text/html": [
       "<div>\n",
       "<style scoped>\n",
       "    .dataframe tbody tr th:only-of-type {\n",
       "        vertical-align: middle;\n",
       "    }\n",
       "\n",
       "    .dataframe tbody tr th {\n",
       "        vertical-align: top;\n",
       "    }\n",
       "\n",
       "    .dataframe thead th {\n",
       "        text-align: right;\n",
       "    }\n",
       "</style>\n",
       "<table border=\"1\" class=\"dataframe\">\n",
       "  <thead>\n",
       "    <tr style=\"text-align: right;\">\n",
       "      <th></th>\n",
       "      <th>product_id</th>\n",
       "      <th>onsale_web</th>\n",
       "      <th>price</th>\n",
       "      <th>stock_quantity</th>\n",
       "      <th>stock_status</th>\n",
       "      <th>id_web</th>\n",
       "      <th>sku</th>\n",
       "      <th>virtual</th>\n",
       "      <th>downloadable</th>\n",
       "      <th>rating_count</th>\n",
       "      <th>...</th>\n",
       "      <th>ping_status</th>\n",
       "      <th>post_name</th>\n",
       "      <th>post_modified</th>\n",
       "      <th>post_modified_gmt</th>\n",
       "      <th>post_parent</th>\n",
       "      <th>guid</th>\n",
       "      <th>menu_order</th>\n",
       "      <th>post_type</th>\n",
       "      <th>post_mime_type</th>\n",
       "      <th>comment_count</th>\n",
       "    </tr>\n",
       "  </thead>\n",
       "  <tbody>\n",
       "    <tr>\n",
       "      <th>0</th>\n",
       "      <td>3847</td>\n",
       "      <td>1</td>\n",
       "      <td>24.2</td>\n",
       "      <td>0</td>\n",
       "      <td>outofstock</td>\n",
       "      <td>15298</td>\n",
       "      <td>15298</td>\n",
       "      <td>0</td>\n",
       "      <td>0</td>\n",
       "      <td>0</td>\n",
       "      <td>...</td>\n",
       "      <td>closed</td>\n",
       "      <td>pierre-jean-villa-saint-joseph-preface-2018</td>\n",
       "      <td>2019-12-30 09:30:29</td>\n",
       "      <td>2019-12-30 08:30:29</td>\n",
       "      <td>0.0</td>\n",
       "      <td>https://www.wine-spirit.fr/?post_type=product&amp;...</td>\n",
       "      <td>0.0</td>\n",
       "      <td>product</td>\n",
       "      <td>NaN</td>\n",
       "      <td>0.0</td>\n",
       "    </tr>\n",
       "    <tr>\n",
       "      <th>1</th>\n",
       "      <td>3849</td>\n",
       "      <td>1</td>\n",
       "      <td>34.3</td>\n",
       "      <td>0</td>\n",
       "      <td>outofstock</td>\n",
       "      <td>15296</td>\n",
       "      <td>15296</td>\n",
       "      <td>0</td>\n",
       "      <td>0</td>\n",
       "      <td>0</td>\n",
       "      <td>...</td>\n",
       "      <td>closed</td>\n",
       "      <td>pierre-jean-villa-saint-joseph-tilde-2017</td>\n",
       "      <td>2019-12-21 09:00:17</td>\n",
       "      <td>2019-12-21 08:00:17</td>\n",
       "      <td>0.0</td>\n",
       "      <td>https://www.wine-spirit.fr/?post_type=product&amp;...</td>\n",
       "      <td>0.0</td>\n",
       "      <td>product</td>\n",
       "      <td>NaN</td>\n",
       "      <td>0.0</td>\n",
       "    </tr>\n",
       "    <tr>\n",
       "      <th>2</th>\n",
       "      <td>3850</td>\n",
       "      <td>1</td>\n",
       "      <td>20.8</td>\n",
       "      <td>0</td>\n",
       "      <td>outofstock</td>\n",
       "      <td>15300</td>\n",
       "      <td>15300</td>\n",
       "      <td>0</td>\n",
       "      <td>0</td>\n",
       "      <td>0</td>\n",
       "      <td>...</td>\n",
       "      <td>closed</td>\n",
       "      <td>pierre-jean-villa-croze-hermitage-accroche-coe...</td>\n",
       "      <td>2020-06-26 18:15:03</td>\n",
       "      <td>2020-06-26 16:15:03</td>\n",
       "      <td>0.0</td>\n",
       "      <td>https://www.wine-spirit.fr/?post_type=product&amp;...</td>\n",
       "      <td>0.0</td>\n",
       "      <td>product</td>\n",
       "      <td>NaN</td>\n",
       "      <td>0.0</td>\n",
       "    </tr>\n",
       "    <tr>\n",
       "      <th>3</th>\n",
       "      <td>4032</td>\n",
       "      <td>1</td>\n",
       "      <td>14.1</td>\n",
       "      <td>0</td>\n",
       "      <td>outofstock</td>\n",
       "      <td>19814</td>\n",
       "      <td>19814</td>\n",
       "      <td>0</td>\n",
       "      <td>0</td>\n",
       "      <td>0</td>\n",
       "      <td>...</td>\n",
       "      <td>closed</td>\n",
       "      <td>pierre-jean-villa-igp-gamine-2018</td>\n",
       "      <td>2020-01-04 16:36:01</td>\n",
       "      <td>2020-01-04 15:36:01</td>\n",
       "      <td>0.0</td>\n",
       "      <td>https://www.wine-spirit.fr/?post_type=product&amp;...</td>\n",
       "      <td>0.0</td>\n",
       "      <td>product</td>\n",
       "      <td>NaN</td>\n",
       "      <td>0.0</td>\n",
       "    </tr>\n",
       "    <tr>\n",
       "      <th>4</th>\n",
       "      <td>4039</td>\n",
       "      <td>1</td>\n",
       "      <td>46.0</td>\n",
       "      <td>0</td>\n",
       "      <td>outofstock</td>\n",
       "      <td>19815</td>\n",
       "      <td>19815</td>\n",
       "      <td>0</td>\n",
       "      <td>0</td>\n",
       "      <td>0</td>\n",
       "      <td>...</td>\n",
       "      <td>closed</td>\n",
       "      <td>pierre-jean-villa-cote-rotie-carmina-2017</td>\n",
       "      <td>2020-01-04 16:36:10</td>\n",
       "      <td>2020-01-04 15:36:10</td>\n",
       "      <td>0.0</td>\n",
       "      <td>https://www.wine-spirit.fr/?post_type=product&amp;...</td>\n",
       "      <td>0.0</td>\n",
       "      <td>product</td>\n",
       "      <td>NaN</td>\n",
       "      <td>0.0</td>\n",
       "    </tr>\n",
       "    <tr>\n",
       "      <th>5</th>\n",
       "      <td>4040</td>\n",
       "      <td>1</td>\n",
       "      <td>34.3</td>\n",
       "      <td>0</td>\n",
       "      <td>outofstock</td>\n",
       "      <td>15303</td>\n",
       "      <td>15303</td>\n",
       "      <td>0</td>\n",
       "      <td>0</td>\n",
       "      <td>0</td>\n",
       "      <td>...</td>\n",
       "      <td>closed</td>\n",
       "      <td>pierre-jean-villa-saint-joseph-saut-ange-2018</td>\n",
       "      <td>2019-11-02 13:25:07</td>\n",
       "      <td>2019-11-02 12:25:07</td>\n",
       "      <td>0.0</td>\n",
       "      <td>https://www.wine-spirit.fr/?post_type=product&amp;...</td>\n",
       "      <td>0.0</td>\n",
       "      <td>product</td>\n",
       "      <td>NaN</td>\n",
       "      <td>0.0</td>\n",
       "    </tr>\n",
       "    <tr>\n",
       "      <th>6</th>\n",
       "      <td>4041</td>\n",
       "      <td>1</td>\n",
       "      <td>32.7</td>\n",
       "      <td>15</td>\n",
       "      <td>instock</td>\n",
       "      <td>14975</td>\n",
       "      <td>14975</td>\n",
       "      <td>0</td>\n",
       "      <td>0</td>\n",
       "      <td>0</td>\n",
       "      <td>...</td>\n",
       "      <td>closed</td>\n",
       "      <td>pierre-gaillard-condrieu-2018</td>\n",
       "      <td>2020-08-14 18:15:02</td>\n",
       "      <td>2020-08-14 16:15:02</td>\n",
       "      <td>0.0</td>\n",
       "      <td>https://www.wine-spirit.fr/?post_type=product&amp;...</td>\n",
       "      <td>0.0</td>\n",
       "      <td>product</td>\n",
       "      <td>NaN</td>\n",
       "      <td>0.0</td>\n",
       "    </tr>\n",
       "    <tr>\n",
       "      <th>7</th>\n",
       "      <td>4042</td>\n",
       "      <td>1</td>\n",
       "      <td>31.2</td>\n",
       "      <td>34</td>\n",
       "      <td>instock</td>\n",
       "      <td>16042</td>\n",
       "      <td>16042</td>\n",
       "      <td>0</td>\n",
       "      <td>0</td>\n",
       "      <td>0</td>\n",
       "      <td>...</td>\n",
       "      <td>closed</td>\n",
       "      <td>pierre-gaillard-cornas-2017</td>\n",
       "      <td>2020-08-14 10:15:02</td>\n",
       "      <td>2020-08-14 08:15:02</td>\n",
       "      <td>0.0</td>\n",
       "      <td>https://www.wine-spirit.fr/?post_type=product&amp;...</td>\n",
       "      <td>0.0</td>\n",
       "      <td>product</td>\n",
       "      <td>NaN</td>\n",
       "      <td>0.0</td>\n",
       "    </tr>\n",
       "    <tr>\n",
       "      <th>8</th>\n",
       "      <td>4043</td>\n",
       "      <td>1</td>\n",
       "      <td>60.0</td>\n",
       "      <td>12</td>\n",
       "      <td>instock</td>\n",
       "      <td>14980</td>\n",
       "      <td>14980</td>\n",
       "      <td>0</td>\n",
       "      <td>0</td>\n",
       "      <td>0</td>\n",
       "      <td>...</td>\n",
       "      <td>closed</td>\n",
       "      <td>pierre-gaillard-cote-rotie-esprit-blond-2017</td>\n",
       "      <td>2020-08-24 14:00:03</td>\n",
       "      <td>2020-08-24 12:00:03</td>\n",
       "      <td>0.0</td>\n",
       "      <td>https://www.wine-spirit.fr/?post_type=product&amp;...</td>\n",
       "      <td>0.0</td>\n",
       "      <td>product</td>\n",
       "      <td>NaN</td>\n",
       "      <td>0.0</td>\n",
       "    </tr>\n",
       "    <tr>\n",
       "      <th>9</th>\n",
       "      <td>4045</td>\n",
       "      <td>1</td>\n",
       "      <td>42.6</td>\n",
       "      <td>66</td>\n",
       "      <td>instock</td>\n",
       "      <td>16041</td>\n",
       "      <td>16041</td>\n",
       "      <td>0</td>\n",
       "      <td>0</td>\n",
       "      <td>0</td>\n",
       "      <td>...</td>\n",
       "      <td>closed</td>\n",
       "      <td>pierre-gaillard-cote-rotie-2018</td>\n",
       "      <td>2020-08-03 09:55:03</td>\n",
       "      <td>2020-08-03 07:55:03</td>\n",
       "      <td>0.0</td>\n",
       "      <td>https://www.wine-spirit.fr/?post_type=product&amp;...</td>\n",
       "      <td>0.0</td>\n",
       "      <td>product</td>\n",
       "      <td>NaN</td>\n",
       "      <td>0.0</td>\n",
       "    </tr>\n",
       "  </tbody>\n",
       "</table>\n",
       "<p>10 rows × 30 columns</p>\n",
       "</div>"
      ]
     },
     "metadata": {},
     "execution_count": 137
    }
   ],
   "metadata": {}
  },
  {
   "cell_type": "code",
   "execution_count": 138,
   "source": [
    "df_full.drop_duplicates(subset=['stock_status'])\r\n",
    "df_full.info()"
   ],
   "outputs": [
    {
     "output_type": "stream",
     "name": "stdout",
     "text": [
      "<class 'pandas.core.frame.DataFrame'>\n",
      "Int64Index: 714 entries, 0 to 713\n",
      "Data columns (total 30 columns):\n",
      " #   Column             Non-Null Count  Dtype         \n",
      "---  ------             --------------  -----         \n",
      " 0   product_id         714 non-null    int64         \n",
      " 1   onsale_web         714 non-null    int64         \n",
      " 2   price              714 non-null    float64       \n",
      " 3   stock_quantity     714 non-null    int64         \n",
      " 4   stock_status       714 non-null    object        \n",
      " 5   id_web             714 non-null    object        \n",
      " 6   sku                714 non-null    object        \n",
      " 7   virtual            714 non-null    int64         \n",
      " 8   downloadable       714 non-null    int64         \n",
      " 9   rating_count       714 non-null    int64         \n",
      " 10  average_rating     714 non-null    float64       \n",
      " 11  total_sales        714 non-null    float64       \n",
      " 12  tax_status         714 non-null    object        \n",
      " 13  post_author        714 non-null    float64       \n",
      " 14  post_date          714 non-null    datetime64[ns]\n",
      " 15  post_date_gmt      714 non-null    datetime64[ns]\n",
      " 16  post_title         714 non-null    object        \n",
      " 17  post_excerpt       714 non-null    object        \n",
      " 18  post_status        714 non-null    object        \n",
      " 19  comment_status     714 non-null    object        \n",
      " 20  ping_status        714 non-null    object        \n",
      " 21  post_name          714 non-null    object        \n",
      " 22  post_modified      714 non-null    datetime64[ns]\n",
      " 23  post_modified_gmt  714 non-null    datetime64[ns]\n",
      " 24  post_parent        714 non-null    float64       \n",
      " 25  guid               714 non-null    object        \n",
      " 26  menu_order         714 non-null    float64       \n",
      " 27  post_type          714 non-null    object        \n",
      " 28  post_mime_type     0 non-null      object        \n",
      " 29  comment_count      714 non-null    float64       \n",
      "dtypes: datetime64[ns](4), float64(7), int64(6), object(13)\n",
      "memory usage: 172.9+ KB\n"
     ]
    }
   ],
   "metadata": {}
  },
  {
   "cell_type": "code",
   "execution_count": 139,
   "source": [
    "df_full['year']= df_full[\"post_title\"].str[-4:]"
   ],
   "outputs": [],
   "metadata": {}
  },
  {
   "cell_type": "code",
   "execution_count": 140,
   "source": [
    "\r\n",
    "print(df_full.info())\r\n",
    "print(df_full.describe())"
   ],
   "outputs": [
    {
     "output_type": "stream",
     "name": "stdout",
     "text": [
      "<class 'pandas.core.frame.DataFrame'>\n",
      "Int64Index: 714 entries, 0 to 713\n",
      "Data columns (total 31 columns):\n",
      " #   Column             Non-Null Count  Dtype         \n",
      "---  ------             --------------  -----         \n",
      " 0   product_id         714 non-null    int64         \n",
      " 1   onsale_web         714 non-null    int64         \n",
      " 2   price              714 non-null    float64       \n",
      " 3   stock_quantity     714 non-null    int64         \n",
      " 4   stock_status       714 non-null    object        \n",
      " 5   id_web             714 non-null    object        \n",
      " 6   sku                714 non-null    object        \n",
      " 7   virtual            714 non-null    int64         \n",
      " 8   downloadable       714 non-null    int64         \n",
      " 9   rating_count       714 non-null    int64         \n",
      " 10  average_rating     714 non-null    float64       \n",
      " 11  total_sales        714 non-null    float64       \n",
      " 12  tax_status         714 non-null    object        \n",
      " 13  post_author        714 non-null    float64       \n",
      " 14  post_date          714 non-null    datetime64[ns]\n",
      " 15  post_date_gmt      714 non-null    datetime64[ns]\n",
      " 16  post_title         714 non-null    object        \n",
      " 17  post_excerpt       714 non-null    object        \n",
      " 18  post_status        714 non-null    object        \n",
      " 19  comment_status     714 non-null    object        \n",
      " 20  ping_status        714 non-null    object        \n",
      " 21  post_name          714 non-null    object        \n",
      " 22  post_modified      714 non-null    datetime64[ns]\n",
      " 23  post_modified_gmt  714 non-null    datetime64[ns]\n",
      " 24  post_parent        714 non-null    float64       \n",
      " 25  guid               714 non-null    object        \n",
      " 26  menu_order         714 non-null    float64       \n",
      " 27  post_type          714 non-null    object        \n",
      " 28  post_mime_type     0 non-null      object        \n",
      " 29  comment_count      714 non-null    float64       \n",
      " 30  year               714 non-null    object        \n",
      "dtypes: datetime64[ns](4), float64(7), int64(6), object(14)\n",
      "memory usage: 178.5+ KB\n",
      "None\n",
      "        product_id  onsale_web       price  stock_quantity  virtual  \\\n",
      "count   714.000000       714.0  714.000000      714.000000    714.0   \n",
      "mean   5032.557423         1.0   32.493137       28.746499      0.0   \n",
      "std     790.510878         0.0   27.810525       48.012608      0.0   \n",
      "min    3847.000000         1.0    5.200000        0.000000      0.0   \n",
      "25%    4280.250000         1.0   14.100000        2.000000      0.0   \n",
      "50%    4796.000000         1.0   23.550000       12.000000      0.0   \n",
      "75%    5710.500000         1.0   42.175000       35.000000      0.0   \n",
      "max    7338.000000         1.0  225.000000      578.000000      0.0   \n",
      "\n",
      "       downloadable  rating_count  average_rating  total_sales  post_author  \\\n",
      "count         714.0         714.0           714.0   714.000000   714.000000   \n",
      "mean            0.0           0.0             0.0     4.012605     1.998599   \n",
      "std             0.0           0.0             0.0     8.518183     0.037424   \n",
      "min             0.0           0.0             0.0     0.000000     1.000000   \n",
      "25%             0.0           0.0             0.0     0.000000     2.000000   \n",
      "50%             0.0           0.0             0.0     1.000000     2.000000   \n",
      "75%             0.0           0.0             0.0     4.000000     2.000000   \n",
      "max             0.0           0.0             0.0    96.000000     2.000000   \n",
      "\n",
      "       post_parent  menu_order  comment_count  \n",
      "count        714.0       714.0          714.0  \n",
      "mean           0.0         0.0            0.0  \n",
      "std            0.0         0.0            0.0  \n",
      "min            0.0         0.0            0.0  \n",
      "25%            0.0         0.0            0.0  \n",
      "50%            0.0         0.0            0.0  \n",
      "75%            0.0         0.0            0.0  \n",
      "max            0.0         0.0            0.0  \n"
     ]
    }
   ],
   "metadata": {}
  },
  {
   "cell_type": "markdown",
   "source": [
    "## Drop the useless columns"
   ],
   "metadata": {}
  },
  {
   "cell_type": "code",
   "execution_count": 141,
   "source": [
    "\r\n",
    "df_cleaned = df_full.dropna(axis=1, how = 'all')"
   ],
   "outputs": [],
   "metadata": {}
  },
  {
   "cell_type": "code",
   "execution_count": 142,
   "source": [
    "print(df_cleaned.info())"
   ],
   "outputs": [
    {
     "output_type": "stream",
     "name": "stdout",
     "text": [
      "<class 'pandas.core.frame.DataFrame'>\n",
      "Int64Index: 714 entries, 0 to 713\n",
      "Data columns (total 30 columns):\n",
      " #   Column             Non-Null Count  Dtype         \n",
      "---  ------             --------------  -----         \n",
      " 0   product_id         714 non-null    int64         \n",
      " 1   onsale_web         714 non-null    int64         \n",
      " 2   price              714 non-null    float64       \n",
      " 3   stock_quantity     714 non-null    int64         \n",
      " 4   stock_status       714 non-null    object        \n",
      " 5   id_web             714 non-null    object        \n",
      " 6   sku                714 non-null    object        \n",
      " 7   virtual            714 non-null    int64         \n",
      " 8   downloadable       714 non-null    int64         \n",
      " 9   rating_count       714 non-null    int64         \n",
      " 10  average_rating     714 non-null    float64       \n",
      " 11  total_sales        714 non-null    float64       \n",
      " 12  tax_status         714 non-null    object        \n",
      " 13  post_author        714 non-null    float64       \n",
      " 14  post_date          714 non-null    datetime64[ns]\n",
      " 15  post_date_gmt      714 non-null    datetime64[ns]\n",
      " 16  post_title         714 non-null    object        \n",
      " 17  post_excerpt       714 non-null    object        \n",
      " 18  post_status        714 non-null    object        \n",
      " 19  comment_status     714 non-null    object        \n",
      " 20  ping_status        714 non-null    object        \n",
      " 21  post_name          714 non-null    object        \n",
      " 22  post_modified      714 non-null    datetime64[ns]\n",
      " 23  post_modified_gmt  714 non-null    datetime64[ns]\n",
      " 24  post_parent        714 non-null    float64       \n",
      " 25  guid               714 non-null    object        \n",
      " 26  menu_order         714 non-null    float64       \n",
      " 27  post_type          714 non-null    object        \n",
      " 28  comment_count      714 non-null    float64       \n",
      " 29  year               714 non-null    object        \n",
      "dtypes: datetime64[ns](4), float64(7), int64(6), object(13)\n",
      "memory usage: 172.9+ KB\n",
      "None\n"
     ]
    }
   ],
   "metadata": {}
  },
  {
   "cell_type": "markdown",
   "source": [
    "## Drop rows where title is nan"
   ],
   "metadata": {}
  },
  {
   "cell_type": "code",
   "execution_count": 143,
   "source": [
    "df_cleaned_title = df_cleaned.drop(df_cleaned[df_cleaned['post_title']=='nan'].index)\r\n",
    "df_cleaned_title.info()"
   ],
   "outputs": [
    {
     "output_type": "stream",
     "name": "stdout",
     "text": [
      "<class 'pandas.core.frame.DataFrame'>\n",
      "Int64Index: 714 entries, 0 to 713\n",
      "Data columns (total 30 columns):\n",
      " #   Column             Non-Null Count  Dtype         \n",
      "---  ------             --------------  -----         \n",
      " 0   product_id         714 non-null    int64         \n",
      " 1   onsale_web         714 non-null    int64         \n",
      " 2   price              714 non-null    float64       \n",
      " 3   stock_quantity     714 non-null    int64         \n",
      " 4   stock_status       714 non-null    object        \n",
      " 5   id_web             714 non-null    object        \n",
      " 6   sku                714 non-null    object        \n",
      " 7   virtual            714 non-null    int64         \n",
      " 8   downloadable       714 non-null    int64         \n",
      " 9   rating_count       714 non-null    int64         \n",
      " 10  average_rating     714 non-null    float64       \n",
      " 11  total_sales        714 non-null    float64       \n",
      " 12  tax_status         714 non-null    object        \n",
      " 13  post_author        714 non-null    float64       \n",
      " 14  post_date          714 non-null    datetime64[ns]\n",
      " 15  post_date_gmt      714 non-null    datetime64[ns]\n",
      " 16  post_title         714 non-null    object        \n",
      " 17  post_excerpt       714 non-null    object        \n",
      " 18  post_status        714 non-null    object        \n",
      " 19  comment_status     714 non-null    object        \n",
      " 20  ping_status        714 non-null    object        \n",
      " 21  post_name          714 non-null    object        \n",
      " 22  post_modified      714 non-null    datetime64[ns]\n",
      " 23  post_modified_gmt  714 non-null    datetime64[ns]\n",
      " 24  post_parent        714 non-null    float64       \n",
      " 25  guid               714 non-null    object        \n",
      " 26  menu_order         714 non-null    float64       \n",
      " 27  post_type          714 non-null    object        \n",
      " 28  comment_count      714 non-null    float64       \n",
      " 29  year               714 non-null    object        \n",
      "dtypes: datetime64[ns](4), float64(7), int64(6), object(13)\n",
      "memory usage: 189.1+ KB\n"
     ]
    }
   ],
   "metadata": {}
  },
  {
   "cell_type": "code",
   "execution_count": 144,
   "source": [
    "df_out = df_cleaned[['price' , 'total_sales']]\r\n",
    "df_out"
   ],
   "outputs": [
    {
     "output_type": "execute_result",
     "data": {
      "text/plain": [
       "     price  total_sales\n",
       "0     24.2          6.0\n",
       "1     34.3          0.0\n",
       "2     20.8          0.0\n",
       "3     14.1          3.0\n",
       "4     46.0          0.0\n",
       "..     ...          ...\n",
       "709    8.4          5.0\n",
       "710   27.5          0.0\n",
       "711   69.0          0.0\n",
       "712   54.8          0.0\n",
       "713   16.3          0.0\n",
       "\n",
       "[714 rows x 2 columns]"
      ],
      "text/html": [
       "<div>\n",
       "<style scoped>\n",
       "    .dataframe tbody tr th:only-of-type {\n",
       "        vertical-align: middle;\n",
       "    }\n",
       "\n",
       "    .dataframe tbody tr th {\n",
       "        vertical-align: top;\n",
       "    }\n",
       "\n",
       "    .dataframe thead th {\n",
       "        text-align: right;\n",
       "    }\n",
       "</style>\n",
       "<table border=\"1\" class=\"dataframe\">\n",
       "  <thead>\n",
       "    <tr style=\"text-align: right;\">\n",
       "      <th></th>\n",
       "      <th>price</th>\n",
       "      <th>total_sales</th>\n",
       "    </tr>\n",
       "  </thead>\n",
       "  <tbody>\n",
       "    <tr>\n",
       "      <th>0</th>\n",
       "      <td>24.2</td>\n",
       "      <td>6.0</td>\n",
       "    </tr>\n",
       "    <tr>\n",
       "      <th>1</th>\n",
       "      <td>34.3</td>\n",
       "      <td>0.0</td>\n",
       "    </tr>\n",
       "    <tr>\n",
       "      <th>2</th>\n",
       "      <td>20.8</td>\n",
       "      <td>0.0</td>\n",
       "    </tr>\n",
       "    <tr>\n",
       "      <th>3</th>\n",
       "      <td>14.1</td>\n",
       "      <td>3.0</td>\n",
       "    </tr>\n",
       "    <tr>\n",
       "      <th>4</th>\n",
       "      <td>46.0</td>\n",
       "      <td>0.0</td>\n",
       "    </tr>\n",
       "    <tr>\n",
       "      <th>...</th>\n",
       "      <td>...</td>\n",
       "      <td>...</td>\n",
       "    </tr>\n",
       "    <tr>\n",
       "      <th>709</th>\n",
       "      <td>8.4</td>\n",
       "      <td>5.0</td>\n",
       "    </tr>\n",
       "    <tr>\n",
       "      <th>710</th>\n",
       "      <td>27.5</td>\n",
       "      <td>0.0</td>\n",
       "    </tr>\n",
       "    <tr>\n",
       "      <th>711</th>\n",
       "      <td>69.0</td>\n",
       "      <td>0.0</td>\n",
       "    </tr>\n",
       "    <tr>\n",
       "      <th>712</th>\n",
       "      <td>54.8</td>\n",
       "      <td>0.0</td>\n",
       "    </tr>\n",
       "    <tr>\n",
       "      <th>713</th>\n",
       "      <td>16.3</td>\n",
       "      <td>0.0</td>\n",
       "    </tr>\n",
       "  </tbody>\n",
       "</table>\n",
       "<p>714 rows × 2 columns</p>\n",
       "</div>"
      ]
     },
     "metadata": {},
     "execution_count": 144
    }
   ],
   "metadata": {}
  },
  {
   "cell_type": "code",
   "execution_count": 145,
   "source": [
    "sns.boxplot(x='price', data= df_out)"
   ],
   "outputs": [
    {
     "output_type": "execute_result",
     "data": {
      "text/plain": [
       "<AxesSubplot:xlabel='price'>"
      ]
     },
     "metadata": {},
     "execution_count": 145
    },
    {
     "output_type": "display_data",
     "data": {
      "text/plain": [
       "<Figure size 432x288 with 1 Axes>"
      ],
      "image/png": "[encoded data removed]"
     },
     "metadata": {
      "needs_background": "light"
     }
    }
   ],
   "metadata": {}
  },
  {
   "cell_type": "code",
   "execution_count": 146,
   "source": [
    "df_out.plot.scatter(x='price', y='total_sales')"
   ],
   "outputs": [
    {
     "output_type": "execute_result",
     "data": {
      "text/plain": [
       "<AxesSubplot:xlabel='price', ylabel='total_sales'>"
      ]
     },
     "metadata": {},
     "execution_count": 146
    },
    {
     "output_type": "display_data",
     "data": {
      "text/plain": [
       "<Figure size 432x288 with 1 Axes>"
      ],
      "image/png": "[encoded data removed]"
     },
     "metadata": {
      "needs_background": "light"
     }
    }
   ],
   "metadata": {}
  },
  {
   "cell_type": "code",
   "execution_count": 147,
   "source": [
    "df_cleaned.info()"
   ],
   "outputs": [
    {
     "output_type": "stream",
     "name": "stdout",
     "text": [
      "<class 'pandas.core.frame.DataFrame'>\n",
      "Int64Index: 714 entries, 0 to 713\n",
      "Data columns (total 30 columns):\n",
      " #   Column             Non-Null Count  Dtype         \n",
      "---  ------             --------------  -----         \n",
      " 0   product_id         714 non-null    int64         \n",
      " 1   onsale_web         714 non-null    int64         \n",
      " 2   price              714 non-null    float64       \n",
      " 3   stock_quantity     714 non-null    int64         \n",
      " 4   stock_status       714 non-null    object        \n",
      " 5   id_web             714 non-null    object        \n",
      " 6   sku                714 non-null    object        \n",
      " 7   virtual            714 non-null    int64         \n",
      " 8   downloadable       714 non-null    int64         \n",
      " 9   rating_count       714 non-null    int64         \n",
      " 10  average_rating     714 non-null    float64       \n",
      " 11  total_sales        714 non-null    float64       \n",
      " 12  tax_status         714 non-null    object        \n",
      " 13  post_author        714 non-null    float64       \n",
      " 14  post_date          714 non-null    datetime64[ns]\n",
      " 15  post_date_gmt      714 non-null    datetime64[ns]\n",
      " 16  post_title         714 non-null    object        \n",
      " 17  post_excerpt       714 non-null    object        \n",
      " 18  post_status        714 non-null    object        \n",
      " 19  comment_status     714 non-null    object        \n",
      " 20  ping_status        714 non-null    object        \n",
      " 21  post_name          714 non-null    object        \n",
      " 22  post_modified      714 non-null    datetime64[ns]\n",
      " 23  post_modified_gmt  714 non-null    datetime64[ns]\n",
      " 24  post_parent        714 non-null    float64       \n",
      " 25  guid               714 non-null    object        \n",
      " 26  menu_order         714 non-null    float64       \n",
      " 27  post_type          714 non-null    object        \n",
      " 28  comment_count      714 non-null    float64       \n",
      " 29  year               714 non-null    object        \n",
      "dtypes: datetime64[ns](4), float64(7), int64(6), object(13)\n",
      "memory usage: 189.1+ KB\n"
     ]
    }
   ],
   "metadata": {}
  },
  {
   "cell_type": "code",
   "execution_count": 148,
   "source": [
    "print(df_cleaned.head(3))"
   ],
   "outputs": [
    {
     "output_type": "stream",
     "name": "stdout",
     "text": [
      "   product_id  onsale_web  price  stock_quantity stock_status id_web    sku  \\\n",
      "0        3847           1   24.2               0   outofstock  15298  15298   \n",
      "1        3849           1   34.3               0   outofstock  15296  15296   \n",
      "2        3850           1   20.8               0   outofstock  15300  15300   \n",
      "\n",
      "   virtual  downloadable  rating_count  ...  ping_status  \\\n",
      "0        0             0             0  ...       closed   \n",
      "1        0             0             0  ...       closed   \n",
      "2        0             0             0  ...       closed   \n",
      "\n",
      "                                           post_name       post_modified  \\\n",
      "0        pierre-jean-villa-saint-joseph-preface-2018 2019-12-30 09:30:29   \n",
      "1          pierre-jean-villa-saint-joseph-tilde-2017 2019-12-21 09:00:17   \n",
      "2  pierre-jean-villa-croze-hermitage-accroche-coe... 2020-06-26 18:15:03   \n",
      "\n",
      "    post_modified_gmt post_parent  \\\n",
      "0 2019-12-30 08:30:29         0.0   \n",
      "1 2019-12-21 08:00:17         0.0   \n",
      "2 2020-06-26 16:15:03         0.0   \n",
      "\n",
      "                                                guid menu_order post_type  \\\n",
      "0  https://www.wine-spirit.fr/?post_type=product&...        0.0   product   \n",
      "1  https://www.wine-spirit.fr/?post_type=product&...        0.0   product   \n",
      "2  https://www.wine-spirit.fr/?post_type=product&...        0.0   product   \n",
      "\n",
      "  comment_count  year  \n",
      "0           0.0  2018  \n",
      "1           0.0  2017  \n",
      "2           0.0  2018  \n",
      "\n",
      "[3 rows x 30 columns]\n"
     ]
    }
   ],
   "metadata": {}
  },
  {
   "cell_type": "markdown",
   "source": [
    "## calculate turn over "
   ],
   "metadata": {}
  },
  {
   "cell_type": "code",
   "execution_count": 149,
   "source": [
    "df_cleaned['turn_over'] = df_cleaned['price'] * df_cleaned['total_sales']"
   ],
   "outputs": [],
   "metadata": {}
  },
  {
   "cell_type": "code",
   "execution_count": 150,
   "source": [
    "df_cleaned.info()"
   ],
   "outputs": [
    {
     "output_type": "stream",
     "name": "stdout",
     "text": [
      "<class 'pandas.core.frame.DataFrame'>\n",
      "Int64Index: 714 entries, 0 to 713\n",
      "Data columns (total 31 columns):\n",
      " #   Column             Non-Null Count  Dtype         \n",
      "---  ------             --------------  -----         \n",
      " 0   product_id         714 non-null    int64         \n",
      " 1   onsale_web         714 non-null    int64         \n",
      " 2   price              714 non-null    float64       \n",
      " 3   stock_quantity     714 non-null    int64         \n",
      " 4   stock_status       714 non-null    object        \n",
      " 5   id_web             714 non-null    object        \n",
      " 6   sku                714 non-null    object        \n",
      " 7   virtual            714 non-null    int64         \n",
      " 8   downloadable       714 non-null    int64         \n",
      " 9   rating_count       714 non-null    int64         \n",
      " 10  average_rating     714 non-null    float64       \n",
      " 11  total_sales        714 non-null    float64       \n",
      " 12  tax_status         714 non-null    object        \n",
      " 13  post_author        714 non-null    float64       \n",
      " 14  post_date          714 non-null    datetime64[ns]\n",
      " 15  post_date_gmt      714 non-null    datetime64[ns]\n",
      " 16  post_title         714 non-null    object        \n",
      " 17  post_excerpt       714 non-null    object        \n",
      " 18  post_status        714 non-null    object        \n",
      " 19  comment_status     714 non-null    object        \n",
      " 20  ping_status        714 non-null    object        \n",
      " 21  post_name          714 non-null    object        \n",
      " 22  post_modified      714 non-null    datetime64[ns]\n",
      " 23  post_modified_gmt  714 non-null    datetime64[ns]\n",
      " 24  post_parent        714 non-null    float64       \n",
      " 25  guid               714 non-null    object        \n",
      " 26  menu_order         714 non-null    float64       \n",
      " 27  post_type          714 non-null    object        \n",
      " 28  comment_count      714 non-null    float64       \n",
      " 29  year               714 non-null    object        \n",
      " 30  turn_over          714 non-null    float64       \n",
      "dtypes: datetime64[ns](4), float64(8), int64(6), object(13)\n",
      "memory usage: 194.7+ KB\n"
     ]
    }
   ],
   "metadata": {}
  },
  {
   "cell_type": "markdown",
   "source": [
    "## Total turn over"
   ],
   "metadata": {}
  },
  {
   "cell_type": "code",
   "execution_count": 151,
   "source": [
    "total_turn_over = df_cleaned['turn_over'].sum()"
   ],
   "outputs": [],
   "metadata": {}
  },
  {
   "cell_type": "code",
   "execution_count": 152,
   "source": [
    "total_turn_over"
   ],
   "outputs": [
    {
     "output_type": "execute_result",
     "data": {
      "text/plain": [
       "70568.6"
      ]
     },
     "metadata": {},
     "execution_count": 152
    }
   ],
   "metadata": {}
  },
  {
   "cell_type": "markdown",
   "source": [
    "### Valeur aberrante"
   ],
   "metadata": {}
  },
  {
   "cell_type": "code",
   "execution_count": 153,
   "source": [
    "sns.boxplot(x='price', data= df_out)"
   ],
   "outputs": [
    {
     "output_type": "execute_result",
     "data": {
      "text/plain": [
       "<AxesSubplot:xlabel='price'>"
      ]
     },
     "metadata": {},
     "execution_count": 153
    },
    {
     "output_type": "display_data",
     "data": {
      "text/plain": [
       "<Figure size 432x288 with 1 Axes>"
      ],
      "image/png": "[encoded data removed]"
     },
     "metadata": {
      "needs_background": "light"
     }
    }
   ],
   "metadata": {}
  },
  {
   "cell_type": "code",
   "execution_count": null,
   "source": [],
   "outputs": [],
   "metadata": {}
  },
  {
   "cell_type": "markdown",
   "source": [
    "## z score"
   ],
   "metadata": {}
  },
  {
   "cell_type": "code",
   "execution_count": 154,
   "source": [
    "df_cleaned['z_score']= stats.zscore(df_cleaned['price'])"
   ],
   "outputs": [],
   "metadata": {}
  },
  {
   "cell_type": "markdown",
   "source": [
    "## Outlier"
   ],
   "metadata": {}
  },
  {
   "cell_type": "code",
   "execution_count": 155,
   "source": [
    "outliers = df_cleaned.query('-2 <= z_score >= 2')\r\n",
    "outliers.info()\r\n",
    "outliers.head()"
   ],
   "outputs": [
    {
     "output_type": "stream",
     "name": "stdout",
     "text": [
      "<class 'pandas.core.frame.DataFrame'>\n",
      "Int64Index: 30 entries, 63 to 657\n",
      "Data columns (total 32 columns):\n",
      " #   Column             Non-Null Count  Dtype         \n",
      "---  ------             --------------  -----         \n",
      " 0   product_id         30 non-null     int64         \n",
      " 1   onsale_web         30 non-null     int64         \n",
      " 2   price              30 non-null     float64       \n",
      " 3   stock_quantity     30 non-null     int64         \n",
      " 4   stock_status       30 non-null     object        \n",
      " 5   id_web             30 non-null     object        \n",
      " 6   sku                30 non-null     object        \n",
      " 7   virtual            30 non-null     int64         \n",
      " 8   downloadable       30 non-null     int64         \n",
      " 9   rating_count       30 non-null     int64         \n",
      " 10  average_rating     30 non-null     float64       \n",
      " 11  total_sales        30 non-null     float64       \n",
      " 12  tax_status         30 non-null     object        \n",
      " 13  post_author        30 non-null     float64       \n",
      " 14  post_date          30 non-null     datetime64[ns]\n",
      " 15  post_date_gmt      30 non-null     datetime64[ns]\n",
      " 16  post_title         30 non-null     object        \n",
      " 17  post_excerpt       30 non-null     object        \n",
      " 18  post_status        30 non-null     object        \n",
      " 19  comment_status     30 non-null     object        \n",
      " 20  ping_status        30 non-null     object        \n",
      " 21  post_name          30 non-null     object        \n",
      " 22  post_modified      30 non-null     datetime64[ns]\n",
      " 23  post_modified_gmt  30 non-null     datetime64[ns]\n",
      " 24  post_parent        30 non-null     float64       \n",
      " 25  guid               30 non-null     object        \n",
      " 26  menu_order         30 non-null     float64       \n",
      " 27  post_type          30 non-null     object        \n",
      " 28  comment_count      30 non-null     float64       \n",
      " 29  year               30 non-null     object        \n",
      " 30  turn_over          30 non-null     float64       \n",
      " 31  z_score            30 non-null     float64       \n",
      "dtypes: datetime64[ns](4), float64(9), int64(6), object(13)\n",
      "memory usage: 7.7+ KB\n"
     ]
    },
    {
     "output_type": "execute_result",
     "data": {
      "text/plain": [
       "     product_id  onsale_web  price  stock_quantity stock_status id_web    sku  \\\n",
       "63         4115           1  100.0              11      instock  15382  15382   \n",
       "65         4132           1   88.4               5      instock  11668  11668   \n",
       "199        4352           1  225.0               0   outofstock  15940  15940   \n",
       "201        4355           1  126.5               2      instock  12589  12589   \n",
       "218        4402           1  176.0               8      instock   3510   3510   \n",
       "\n",
       "     virtual  downloadable  rating_count  ...       post_modified  \\\n",
       "63         0             0             0  ... 2020-02-08 11:45:02   \n",
       "65         0             0             0  ... 2020-02-20 09:55:02   \n",
       "199        0             0             0  ... 2020-03-07 11:18:45   \n",
       "201        0             0             0  ... 2020-08-13 10:15:02   \n",
       "218        0             0             0  ... 2020-08-22 11:35:03   \n",
       "\n",
       "      post_modified_gmt post_parent  \\\n",
       "63  2020-02-08 10:45:02         0.0   \n",
       "65  2020-02-20 08:55:02         0.0   \n",
       "199 2020-03-07 10:18:45         0.0   \n",
       "201 2020-08-13 08:15:02         0.0   \n",
       "218 2020-08-22 09:35:03         0.0   \n",
       "\n",
       "                                                  guid menu_order post_type  \\\n",
       "63   https://www.wine-spirit.fr/?post_type=product&...        0.0   product   \n",
       "65   https://www.wine-spirit.fr/?post_type=product&...        0.0   product   \n",
       "199  https://www.wine-spirit.fr/?post_type=product&...        0.0   product   \n",
       "201  https://www.wine-spirit.fr/?post_type=product&...        0.0   product   \n",
       "218  https://www.wine-spirit.fr/?post_type=product&...        0.0   product   \n",
       "\n",
       "    comment_count  year turn_over   z_score  \n",
       "63            0.0  2017       0.0  2.429087  \n",
       "65            0.0  2012       0.0  2.011686  \n",
       "199           0.0  2008    1125.0  6.926939  \n",
       "201           0.0  oirs    1391.5  3.382632  \n",
       "218           0.0  P XO    2288.0  5.163781  \n",
       "\n",
       "[5 rows x 32 columns]"
      ],
      "text/html": [
       "<div>\n",
       "<style scoped>\n",
       "    .dataframe tbody tr th:only-of-type {\n",
       "        vertical-align: middle;\n",
       "    }\n",
       "\n",
       "    .dataframe tbody tr th {\n",
       "        vertical-align: top;\n",
       "    }\n",
       "\n",
       "    .dataframe thead th {\n",
       "        text-align: right;\n",
       "    }\n",
       "</style>\n",
       "<table border=\"1\" class=\"dataframe\">\n",
       "  <thead>\n",
       "    <tr style=\"text-align: right;\">\n",
       "      <th></th>\n",
       "      <th>product_id</th>\n",
       "      <th>onsale_web</th>\n",
       "      <th>price</th>\n",
       "      <th>stock_quantity</th>\n",
       "      <th>stock_status</th>\n",
       "      <th>id_web</th>\n",
       "      <th>sku</th>\n",
       "      <th>virtual</th>\n",
       "      <th>downloadable</th>\n",
       "      <th>rating_count</th>\n",
       "      <th>...</th>\n",
       "      <th>post_modified</th>\n",
       "      <th>post_modified_gmt</th>\n",
       "      <th>post_parent</th>\n",
       "      <th>guid</th>\n",
       "      <th>menu_order</th>\n",
       "      <th>post_type</th>\n",
       "      <th>comment_count</th>\n",
       "      <th>year</th>\n",
       "      <th>turn_over</th>\n",
       "      <th>z_score</th>\n",
       "    </tr>\n",
       "  </thead>\n",
       "  <tbody>\n",
       "    <tr>\n",
       "      <th>63</th>\n",
       "      <td>4115</td>\n",
       "      <td>1</td>\n",
       "      <td>100.0</td>\n",
       "      <td>11</td>\n",
       "      <td>instock</td>\n",
       "      <td>15382</td>\n",
       "      <td>15382</td>\n",
       "      <td>0</td>\n",
       "      <td>0</td>\n",
       "      <td>0</td>\n",
       "      <td>...</td>\n",
       "      <td>2020-02-08 11:45:02</td>\n",
       "      <td>2020-02-08 10:45:02</td>\n",
       "      <td>0.0</td>\n",
       "      <td>https://www.wine-spirit.fr/?post_type=product&amp;...</td>\n",
       "      <td>0.0</td>\n",
       "      <td>product</td>\n",
       "      <td>0.0</td>\n",
       "      <td>2017</td>\n",
       "      <td>0.0</td>\n",
       "      <td>2.429087</td>\n",
       "    </tr>\n",
       "    <tr>\n",
       "      <th>65</th>\n",
       "      <td>4132</td>\n",
       "      <td>1</td>\n",
       "      <td>88.4</td>\n",
       "      <td>5</td>\n",
       "      <td>instock</td>\n",
       "      <td>11668</td>\n",
       "      <td>11668</td>\n",
       "      <td>0</td>\n",
       "      <td>0</td>\n",
       "      <td>0</td>\n",
       "      <td>...</td>\n",
       "      <td>2020-02-20 09:55:02</td>\n",
       "      <td>2020-02-20 08:55:02</td>\n",
       "      <td>0.0</td>\n",
       "      <td>https://www.wine-spirit.fr/?post_type=product&amp;...</td>\n",
       "      <td>0.0</td>\n",
       "      <td>product</td>\n",
       "      <td>0.0</td>\n",
       "      <td>2012</td>\n",
       "      <td>0.0</td>\n",
       "      <td>2.011686</td>\n",
       "    </tr>\n",
       "    <tr>\n",
       "      <th>199</th>\n",
       "      <td>4352</td>\n",
       "      <td>1</td>\n",
       "      <td>225.0</td>\n",
       "      <td>0</td>\n",
       "      <td>outofstock</td>\n",
       "      <td>15940</td>\n",
       "      <td>15940</td>\n",
       "      <td>0</td>\n",
       "      <td>0</td>\n",
       "      <td>0</td>\n",
       "      <td>...</td>\n",
       "      <td>2020-03-07 11:18:45</td>\n",
       "      <td>2020-03-07 10:18:45</td>\n",
       "      <td>0.0</td>\n",
       "      <td>https://www.wine-spirit.fr/?post_type=product&amp;...</td>\n",
       "      <td>0.0</td>\n",
       "      <td>product</td>\n",
       "      <td>0.0</td>\n",
       "      <td>2008</td>\n",
       "      <td>1125.0</td>\n",
       "      <td>6.926939</td>\n",
       "    </tr>\n",
       "    <tr>\n",
       "      <th>201</th>\n",
       "      <td>4355</td>\n",
       "      <td>1</td>\n",
       "      <td>126.5</td>\n",
       "      <td>2</td>\n",
       "      <td>instock</td>\n",
       "      <td>12589</td>\n",
       "      <td>12589</td>\n",
       "      <td>0</td>\n",
       "      <td>0</td>\n",
       "      <td>0</td>\n",
       "      <td>...</td>\n",
       "      <td>2020-08-13 10:15:02</td>\n",
       "      <td>2020-08-13 08:15:02</td>\n",
       "      <td>0.0</td>\n",
       "      <td>https://www.wine-spirit.fr/?post_type=product&amp;...</td>\n",
       "      <td>0.0</td>\n",
       "      <td>product</td>\n",
       "      <td>0.0</td>\n",
       "      <td>oirs</td>\n",
       "      <td>1391.5</td>\n",
       "      <td>3.382632</td>\n",
       "    </tr>\n",
       "    <tr>\n",
       "      <th>218</th>\n",
       "      <td>4402</td>\n",
       "      <td>1</td>\n",
       "      <td>176.0</td>\n",
       "      <td>8</td>\n",
       "      <td>instock</td>\n",
       "      <td>3510</td>\n",
       "      <td>3510</td>\n",
       "      <td>0</td>\n",
       "      <td>0</td>\n",
       "      <td>0</td>\n",
       "      <td>...</td>\n",
       "      <td>2020-08-22 11:35:03</td>\n",
       "      <td>2020-08-22 09:35:03</td>\n",
       "      <td>0.0</td>\n",
       "      <td>https://www.wine-spirit.fr/?post_type=product&amp;...</td>\n",
       "      <td>0.0</td>\n",
       "      <td>product</td>\n",
       "      <td>0.0</td>\n",
       "      <td>P XO</td>\n",
       "      <td>2288.0</td>\n",
       "      <td>5.163781</td>\n",
       "    </tr>\n",
       "  </tbody>\n",
       "</table>\n",
       "<p>5 rows × 32 columns</p>\n",
       "</div>"
      ]
     },
     "metadata": {},
     "execution_count": 155
    }
   ],
   "metadata": {}
  },
  {
   "cell_type": "code",
   "execution_count": 156,
   "source": [
    "sns.histplot(data= outliers, x= 'price', y = 'total_sales')\r\n"
   ],
   "outputs": [
    {
     "output_type": "execute_result",
     "data": {
      "text/plain": [
       "<AxesSubplot:xlabel='price', ylabel='total_sales'>"
      ]
     },
     "metadata": {},
     "execution_count": 156
    },
    {
     "output_type": "display_data",
     "data": {
      "text/plain": [
       "<Figure size 432x288 with 1 Axes>"
      ],
      "image/png": "[encoded data removed]"
     },
     "metadata": {
      "needs_background": "light"
     }
    }
   ],
   "metadata": {}
  },
  {
   "cell_type": "code",
   "execution_count": 157,
   "source": [
    "sns.relplot(data= outliers, x= 'price', y='total_sales')"
   ],
   "outputs": [
    {
     "output_type": "execute_result",
     "data": {
      "text/plain": [
       "<seaborn.axisgrid.FacetGrid at 0x15656fdb820>"
      ]
     },
     "metadata": {},
     "execution_count": 157
    },
    {
     "output_type": "display_data",
     "data": {
      "text/plain": [
       "<Figure size 360x360 with 1 Axes>"
      ],
      "image/png": "[encoded data removed]"
     },
     "metadata": {
      "needs_background": "light"
     }
    }
   ],
   "metadata": {}
  },
  {
   "cell_type": "markdown",
   "source": [
    "## kmeans"
   ],
   "metadata": {}
  },
  {
   "cell_type": "code",
   "execution_count": 158,
   "source": [
    "df_pt = df_cleaned[['price' ,'total_sales']]\r\n",
    "df_pt"
   ],
   "outputs": [
    {
     "output_type": "execute_result",
     "data": {
      "text/plain": [
       "     price  total_sales\n",
       "0     24.2          6.0\n",
       "1     34.3          0.0\n",
       "2     20.8          0.0\n",
       "3     14.1          3.0\n",
       "4     46.0          0.0\n",
       "..     ...          ...\n",
       "709    8.4          5.0\n",
       "710   27.5          0.0\n",
       "711   69.0          0.0\n",
       "712   54.8          0.0\n",
       "713   16.3          0.0\n",
       "\n",
       "[714 rows x 2 columns]"
      ],
      "text/html": [
       "<div>\n",
       "<style scoped>\n",
       "    .dataframe tbody tr th:only-of-type {\n",
       "        vertical-align: middle;\n",
       "    }\n",
       "\n",
       "    .dataframe tbody tr th {\n",
       "        vertical-align: top;\n",
       "    }\n",
       "\n",
       "    .dataframe thead th {\n",
       "        text-align: right;\n",
       "    }\n",
       "</style>\n",
       "<table border=\"1\" class=\"dataframe\">\n",
       "  <thead>\n",
       "    <tr style=\"text-align: right;\">\n",
       "      <th></th>\n",
       "      <th>price</th>\n",
       "      <th>total_sales</th>\n",
       "    </tr>\n",
       "  </thead>\n",
       "  <tbody>\n",
       "    <tr>\n",
       "      <th>0</th>\n",
       "      <td>24.2</td>\n",
       "      <td>6.0</td>\n",
       "    </tr>\n",
       "    <tr>\n",
       "      <th>1</th>\n",
       "      <td>34.3</td>\n",
       "      <td>0.0</td>\n",
       "    </tr>\n",
       "    <tr>\n",
       "      <th>2</th>\n",
       "      <td>20.8</td>\n",
       "      <td>0.0</td>\n",
       "    </tr>\n",
       "    <tr>\n",
       "      <th>3</th>\n",
       "      <td>14.1</td>\n",
       "      <td>3.0</td>\n",
       "    </tr>\n",
       "    <tr>\n",
       "      <th>4</th>\n",
       "      <td>46.0</td>\n",
       "      <td>0.0</td>\n",
       "    </tr>\n",
       "    <tr>\n",
       "      <th>...</th>\n",
       "      <td>...</td>\n",
       "      <td>...</td>\n",
       "    </tr>\n",
       "    <tr>\n",
       "      <th>709</th>\n",
       "      <td>8.4</td>\n",
       "      <td>5.0</td>\n",
       "    </tr>\n",
       "    <tr>\n",
       "      <th>710</th>\n",
       "      <td>27.5</td>\n",
       "      <td>0.0</td>\n",
       "    </tr>\n",
       "    <tr>\n",
       "      <th>711</th>\n",
       "      <td>69.0</td>\n",
       "      <td>0.0</td>\n",
       "    </tr>\n",
       "    <tr>\n",
       "      <th>712</th>\n",
       "      <td>54.8</td>\n",
       "      <td>0.0</td>\n",
       "    </tr>\n",
       "    <tr>\n",
       "      <th>713</th>\n",
       "      <td>16.3</td>\n",
       "      <td>0.0</td>\n",
       "    </tr>\n",
       "  </tbody>\n",
       "</table>\n",
       "<p>714 rows × 2 columns</p>\n",
       "</div>"
      ]
     },
     "metadata": {},
     "execution_count": 158
    }
   ],
   "metadata": {}
  },
  {
   "cell_type": "code",
   "execution_count": 159,
   "source": [
    "df_pt_row = df_pt.dropna(axis=0, how='any')\r\n",
    "df_pt_row.info()"
   ],
   "outputs": [
    {
     "output_type": "stream",
     "name": "stdout",
     "text": [
      "<class 'pandas.core.frame.DataFrame'>\n",
      "Int64Index: 714 entries, 0 to 713\n",
      "Data columns (total 2 columns):\n",
      " #   Column       Non-Null Count  Dtype  \n",
      "---  ------       --------------  -----  \n",
      " 0   price        714 non-null    float64\n",
      " 1   total_sales  714 non-null    float64\n",
      "dtypes: float64(2)\n",
      "memory usage: 16.7 KB\n"
     ]
    }
   ],
   "metadata": {}
  },
  {
   "cell_type": "code",
   "execution_count": 160,
   "source": [
    "X = df_pt_row\r\n",
    "X_train, X_test = train_test_split(X, test_size=0.33, random_state=34)\r\n",
    "kmeans = KMeans(n_clusters=4, random_state=34).fit(X_train)\r\n",
    "X_test['cluster'] = kmeans.predict(X_test)"
   ],
   "outputs": [
    {
     "output_type": "stream",
     "name": "stderr",
     "text": [
      "<ipython-input-160-0a291c44d4d6>:4: SettingWithCopyWarning: \n",
      "A value is trying to be set on a copy of a slice from a DataFrame.\n",
      "Try using .loc[row_indexer,col_indexer] = value instead\n",
      "\n",
      "See the caveats in the documentation: https://pandas.pydata.org/pandas-docs/stable/user_guide/indexing.html#returning-a-view-versus-a-copy\n",
      "  X_test['cluster'] = kmeans.predict(X_test)\n"
     ]
    }
   ],
   "metadata": {}
  },
  {
   "cell_type": "code",
   "execution_count": 161,
   "source": [
    "X_test.info()\r\n"
   ],
   "outputs": [
    {
     "output_type": "stream",
     "name": "stdout",
     "text": [
      "<class 'pandas.core.frame.DataFrame'>\n",
      "Int64Index: 236 entries, 686 to 703\n",
      "Data columns (total 3 columns):\n",
      " #   Column       Non-Null Count  Dtype  \n",
      "---  ------       --------------  -----  \n",
      " 0   price        236 non-null    float64\n",
      " 1   total_sales  236 non-null    float64\n",
      " 2   cluster      236 non-null    int32  \n",
      "dtypes: float64(2), int32(1)\n",
      "memory usage: 6.5 KB\n"
     ]
    }
   ],
   "metadata": {}
  },
  {
   "cell_type": "markdown",
   "source": [
    "## Interquartile"
   ],
   "metadata": {}
  },
  {
   "cell_type": "code",
   "execution_count": 162,
   "source": [
    "df_inquar = outliers[['price' , 'total_sales']]\r\n",
    "df_inquar.info()"
   ],
   "outputs": [
    {
     "output_type": "stream",
     "name": "stdout",
     "text": [
      "<class 'pandas.core.frame.DataFrame'>\n",
      "Int64Index: 30 entries, 63 to 657\n",
      "Data columns (total 2 columns):\n",
      " #   Column       Non-Null Count  Dtype  \n",
      "---  ------       --------------  -----  \n",
      " 0   price        30 non-null     float64\n",
      " 1   total_sales  30 non-null     float64\n",
      "dtypes: float64(2)\n",
      "memory usage: 720.0 bytes\n"
     ]
    }
   ],
   "metadata": {}
  },
  {
   "cell_type": "code",
   "execution_count": 163,
   "source": [
    "inter = iqr(df_cleaned['price'])\r\n",
    "inter"
   ],
   "outputs": [
    {
     "output_type": "execute_result",
     "data": {
      "text/plain": [
       "28.075000000000003"
      ]
     },
     "metadata": {},
     "execution_count": 163
    }
   ],
   "metadata": {}
  },
  {
   "cell_type": "code",
   "execution_count": 170,
   "source": [
    "q1 , q3 = np.percentile(df_cleaned['price'], [25,75])\r\n",
    "\r\n",
    "lower_range = q1 - (1.5 * inter)\r\n",
    "upper_range = q3 + (1.5 * inter)\r\n",
    "lower_range, upper_range"
   ],
   "outputs": [
    {
     "output_type": "execute_result",
     "data": {
      "text/plain": [
       "(14.1, 42.175000000000004)"
      ]
     },
     "metadata": {},
     "execution_count": 170
    }
   ],
   "metadata": {}
  },
  {
   "cell_type": "code",
   "execution_count": null,
   "source": [
    "outliers_inter = []\r\n",
    "for i in df_cleaned['price']:\r\n",
    "    if ((i> upper_range) or (i<lower_range)):\r\n",
    "        outliers_inter.append(i)\r\n",
    "outliers_inter\r\n"
   ],
   "outputs": [],
   "metadata": {}
  },
  {
   "cell_type": "code",
   "execution_count": 172,
   "source": [
    "df_cleaned['iqr'] = iqr(df_cleaned['price'])\r\n",
    "df_cleaned['q1'] = df_cleaned['price'].quantile(0.25)\r\n",
    "df_cleaned['q3'] = q3"
   ],
   "outputs": [],
   "metadata": {}
  },
  {
   "cell_type": "code",
   "execution_count": 178,
   "source": [
    "df_outliers_int = df_cleaned.query('q1 - 1.5 * iqr <= price >= q3 + 1.5 * iqr')\r\n",
    "#outliers = df_cleaned.query('-2 <= z_score >= 2')\r\n",
    "df_outliers_int.info()"
   ],
   "outputs": [
    {
     "output_type": "stream",
     "name": "stdout",
     "text": [
      "<class 'pandas.core.frame.DataFrame'>\n",
      "Int64Index: 32 entries, 63 to 657\n",
      "Data columns (total 35 columns):\n",
      " #   Column             Non-Null Count  Dtype         \n",
      "---  ------             --------------  -----         \n",
      " 0   product_id         32 non-null     int64         \n",
      " 1   onsale_web         32 non-null     int64         \n",
      " 2   price              32 non-null     float64       \n",
      " 3   stock_quantity     32 non-null     int64         \n",
      " 4   stock_status       32 non-null     object        \n",
      " 5   id_web             32 non-null     object        \n",
      " 6   sku                32 non-null     object        \n",
      " 7   virtual            32 non-null     int64         \n",
      " 8   downloadable       32 non-null     int64         \n",
      " 9   rating_count       32 non-null     int64         \n",
      " 10  average_rating     32 non-null     float64       \n",
      " 11  total_sales        32 non-null     float64       \n",
      " 12  tax_status         32 non-null     object        \n",
      " 13  post_author        32 non-null     float64       \n",
      " 14  post_date          32 non-null     datetime64[ns]\n",
      " 15  post_date_gmt      32 non-null     datetime64[ns]\n",
      " 16  post_title         32 non-null     object        \n",
      " 17  post_excerpt       32 non-null     object        \n",
      " 18  post_status        32 non-null     object        \n",
      " 19  comment_status     32 non-null     object        \n",
      " 20  ping_status        32 non-null     object        \n",
      " 21  post_name          32 non-null     object        \n",
      " 22  post_modified      32 non-null     datetime64[ns]\n",
      " 23  post_modified_gmt  32 non-null     datetime64[ns]\n",
      " 24  post_parent        32 non-null     float64       \n",
      " 25  guid               32 non-null     object        \n",
      " 26  menu_order         32 non-null     float64       \n",
      " 27  post_type          32 non-null     object        \n",
      " 28  comment_count      32 non-null     float64       \n",
      " 29  year               32 non-null     object        \n",
      " 30  turn_over          32 non-null     float64       \n",
      " 31  z_score            32 non-null     float64       \n",
      " 32  iqr                32 non-null     float64       \n",
      " 33  q3                 32 non-null     float64       \n",
      " 34  q1                 32 non-null     float64       \n",
      "dtypes: datetime64[ns](4), float64(12), int64(6), object(13)\n",
      "memory usage: 9.0+ KB\n"
     ]
    }
   ],
   "metadata": {}
  }
 ]
}